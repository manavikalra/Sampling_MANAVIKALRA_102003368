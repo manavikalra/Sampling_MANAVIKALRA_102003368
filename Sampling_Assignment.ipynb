{
  "nbformat": 4,
  "nbformat_minor": 0,
  "metadata": {
    "colab": {
      "provenance": []
    },
    "kernelspec": {
      "name": "python3",
      "display_name": "Python 3"
    },
    "language_info": {
      "name": "python"
    }
  },
  "cells": [
    {
      "cell_type": "code",
      "source": [
        "from google.colab import drive\n",
        "drive.mount('/content/drive')"
      ],
      "metadata": {
        "colab": {
          "base_uri": "https://localhost:8080/"
        },
        "id": "LmN6UnxQX_DW",
        "outputId": "96bd6075-03ee-4c34-e259-cc9bd6d8a83f"
      },
      "execution_count": null,
      "outputs": [
        {
          "output_type": "stream",
          "name": "stdout",
          "text": [
            "Drive already mounted at /content/drive; to attempt to forcibly remount, call drive.mount(\"/content/drive\", force_remount=True).\n"
          ]
        }
      ]
    },
    {
      "cell_type": "code",
      "execution_count": null,
      "metadata": {
        "id": "eRLmZm036F_z"
      },
      "outputs": [],
      "source": [
        "import pandas as pd\n",
        "import numpy as np\n",
        "\n",
        "data=pd.read_csv('/content/drive/MyDrive/Python Assignment Data/Creditcard_data.csv')"
      ]
    },
    {
      "cell_type": "code",
      "source": [
        "data.head()"
      ],
      "metadata": {
        "colab": {
          "base_uri": "https://localhost:8080/",
          "height": 299
        },
        "id": "aUZE-pkz7CFZ",
        "outputId": "ce1c9011-fbad-42d9-e026-7751cf6d7030"
      },
      "execution_count": null,
      "outputs": [
        {
          "output_type": "execute_result",
          "data": {
            "text/plain": [
              "   Time        V1        V2        V3        V4        V5        V6        V7  \\\n",
              "0     0 -1.359807 -0.072781  2.536347  1.378155 -0.338321  0.462388  0.239599   \n",
              "1     0  1.191857  0.266151  0.166480  0.448154  0.060018 -0.082361 -0.078803   \n",
              "2     1 -1.358354 -1.340163  1.773209  0.379780 -0.503198  1.800499  0.791461   \n",
              "3     1 -0.966272 -0.185226  1.792993 -0.863291 -0.010309  1.247203  0.237609   \n",
              "4     2 -1.158233  0.877737  1.548718  0.403034 -0.407193  0.095921  0.592941   \n",
              "\n",
              "         V8        V9  ...       V21       V22       V23       V24       V25  \\\n",
              "0  0.098698  0.363787  ... -0.018307  0.277838 -0.110474  0.066928  0.128539   \n",
              "1  0.085102 -0.255425  ... -0.225775 -0.638672  0.101288 -0.339846  0.167170   \n",
              "2  0.247676 -1.514654  ...  0.247998  0.771679  0.909412 -0.689281 -0.327642   \n",
              "3  0.377436 -1.387024  ... -0.108300  0.005274 -0.190321 -1.175575  0.647376   \n",
              "4 -0.270533  0.817739  ... -0.009431  0.798278 -0.137458  0.141267 -0.206010   \n",
              "\n",
              "        V26       V27       V28  Amount  Class  \n",
              "0 -0.189115  0.133558 -0.021053  149.62      0  \n",
              "1  0.125895 -0.008983  0.014724    2.69      1  \n",
              "2 -0.139097 -0.055353 -0.059752  378.66      0  \n",
              "3 -0.221929  0.062723  0.061458  123.50      0  \n",
              "4  0.502292  0.219422  0.215153   69.99      0  \n",
              "\n",
              "[5 rows x 31 columns]"
            ],
            "text/html": [
              "\n",
              "  <div id=\"df-c2059f91-b4a4-42ec-9ae7-37b9b3a1d7c8\">\n",
              "    <div class=\"colab-df-container\">\n",
              "      <div>\n",
              "<style scoped>\n",
              "    .dataframe tbody tr th:only-of-type {\n",
              "        vertical-align: middle;\n",
              "    }\n",
              "\n",
              "    .dataframe tbody tr th {\n",
              "        vertical-align: top;\n",
              "    }\n",
              "\n",
              "    .dataframe thead th {\n",
              "        text-align: right;\n",
              "    }\n",
              "</style>\n",
              "<table border=\"1\" class=\"dataframe\">\n",
              "  <thead>\n",
              "    <tr style=\"text-align: right;\">\n",
              "      <th></th>\n",
              "      <th>Time</th>\n",
              "      <th>V1</th>\n",
              "      <th>V2</th>\n",
              "      <th>V3</th>\n",
              "      <th>V4</th>\n",
              "      <th>V5</th>\n",
              "      <th>V6</th>\n",
              "      <th>V7</th>\n",
              "      <th>V8</th>\n",
              "      <th>V9</th>\n",
              "      <th>...</th>\n",
              "      <th>V21</th>\n",
              "      <th>V22</th>\n",
              "      <th>V23</th>\n",
              "      <th>V24</th>\n",
              "      <th>V25</th>\n",
              "      <th>V26</th>\n",
              "      <th>V27</th>\n",
              "      <th>V28</th>\n",
              "      <th>Amount</th>\n",
              "      <th>Class</th>\n",
              "    </tr>\n",
              "  </thead>\n",
              "  <tbody>\n",
              "    <tr>\n",
              "      <th>0</th>\n",
              "      <td>0</td>\n",
              "      <td>-1.359807</td>\n",
              "      <td>-0.072781</td>\n",
              "      <td>2.536347</td>\n",
              "      <td>1.378155</td>\n",
              "      <td>-0.338321</td>\n",
              "      <td>0.462388</td>\n",
              "      <td>0.239599</td>\n",
              "      <td>0.098698</td>\n",
              "      <td>0.363787</td>\n",
              "      <td>...</td>\n",
              "      <td>-0.018307</td>\n",
              "      <td>0.277838</td>\n",
              "      <td>-0.110474</td>\n",
              "      <td>0.066928</td>\n",
              "      <td>0.128539</td>\n",
              "      <td>-0.189115</td>\n",
              "      <td>0.133558</td>\n",
              "      <td>-0.021053</td>\n",
              "      <td>149.62</td>\n",
              "      <td>0</td>\n",
              "    </tr>\n",
              "    <tr>\n",
              "      <th>1</th>\n",
              "      <td>0</td>\n",
              "      <td>1.191857</td>\n",
              "      <td>0.266151</td>\n",
              "      <td>0.166480</td>\n",
              "      <td>0.448154</td>\n",
              "      <td>0.060018</td>\n",
              "      <td>-0.082361</td>\n",
              "      <td>-0.078803</td>\n",
              "      <td>0.085102</td>\n",
              "      <td>-0.255425</td>\n",
              "      <td>...</td>\n",
              "      <td>-0.225775</td>\n",
              "      <td>-0.638672</td>\n",
              "      <td>0.101288</td>\n",
              "      <td>-0.339846</td>\n",
              "      <td>0.167170</td>\n",
              "      <td>0.125895</td>\n",
              "      <td>-0.008983</td>\n",
              "      <td>0.014724</td>\n",
              "      <td>2.69</td>\n",
              "      <td>1</td>\n",
              "    </tr>\n",
              "    <tr>\n",
              "      <th>2</th>\n",
              "      <td>1</td>\n",
              "      <td>-1.358354</td>\n",
              "      <td>-1.340163</td>\n",
              "      <td>1.773209</td>\n",
              "      <td>0.379780</td>\n",
              "      <td>-0.503198</td>\n",
              "      <td>1.800499</td>\n",
              "      <td>0.791461</td>\n",
              "      <td>0.247676</td>\n",
              "      <td>-1.514654</td>\n",
              "      <td>...</td>\n",
              "      <td>0.247998</td>\n",
              "      <td>0.771679</td>\n",
              "      <td>0.909412</td>\n",
              "      <td>-0.689281</td>\n",
              "      <td>-0.327642</td>\n",
              "      <td>-0.139097</td>\n",
              "      <td>-0.055353</td>\n",
              "      <td>-0.059752</td>\n",
              "      <td>378.66</td>\n",
              "      <td>0</td>\n",
              "    </tr>\n",
              "    <tr>\n",
              "      <th>3</th>\n",
              "      <td>1</td>\n",
              "      <td>-0.966272</td>\n",
              "      <td>-0.185226</td>\n",
              "      <td>1.792993</td>\n",
              "      <td>-0.863291</td>\n",
              "      <td>-0.010309</td>\n",
              "      <td>1.247203</td>\n",
              "      <td>0.237609</td>\n",
              "      <td>0.377436</td>\n",
              "      <td>-1.387024</td>\n",
              "      <td>...</td>\n",
              "      <td>-0.108300</td>\n",
              "      <td>0.005274</td>\n",
              "      <td>-0.190321</td>\n",
              "      <td>-1.175575</td>\n",
              "      <td>0.647376</td>\n",
              "      <td>-0.221929</td>\n",
              "      <td>0.062723</td>\n",
              "      <td>0.061458</td>\n",
              "      <td>123.50</td>\n",
              "      <td>0</td>\n",
              "    </tr>\n",
              "    <tr>\n",
              "      <th>4</th>\n",
              "      <td>2</td>\n",
              "      <td>-1.158233</td>\n",
              "      <td>0.877737</td>\n",
              "      <td>1.548718</td>\n",
              "      <td>0.403034</td>\n",
              "      <td>-0.407193</td>\n",
              "      <td>0.095921</td>\n",
              "      <td>0.592941</td>\n",
              "      <td>-0.270533</td>\n",
              "      <td>0.817739</td>\n",
              "      <td>...</td>\n",
              "      <td>-0.009431</td>\n",
              "      <td>0.798278</td>\n",
              "      <td>-0.137458</td>\n",
              "      <td>0.141267</td>\n",
              "      <td>-0.206010</td>\n",
              "      <td>0.502292</td>\n",
              "      <td>0.219422</td>\n",
              "      <td>0.215153</td>\n",
              "      <td>69.99</td>\n",
              "      <td>0</td>\n",
              "    </tr>\n",
              "  </tbody>\n",
              "</table>\n",
              "<p>5 rows × 31 columns</p>\n",
              "</div>\n",
              "      <button class=\"colab-df-convert\" onclick=\"convertToInteractive('df-c2059f91-b4a4-42ec-9ae7-37b9b3a1d7c8')\"\n",
              "              title=\"Convert this dataframe to an interactive table.\"\n",
              "              style=\"display:none;\">\n",
              "        \n",
              "  <svg xmlns=\"http://www.w3.org/2000/svg\" height=\"24px\"viewBox=\"0 0 24 24\"\n",
              "       width=\"24px\">\n",
              "    <path d=\"M0 0h24v24H0V0z\" fill=\"none\"/>\n",
              "    <path d=\"M18.56 5.44l.94 2.06.94-2.06 2.06-.94-2.06-.94-.94-2.06-.94 2.06-2.06.94zm-11 1L8.5 8.5l.94-2.06 2.06-.94-2.06-.94L8.5 2.5l-.94 2.06-2.06.94zm10 10l.94 2.06.94-2.06 2.06-.94-2.06-.94-.94-2.06-.94 2.06-2.06.94z\"/><path d=\"M17.41 7.96l-1.37-1.37c-.4-.4-.92-.59-1.43-.59-.52 0-1.04.2-1.43.59L10.3 9.45l-7.72 7.72c-.78.78-.78 2.05 0 2.83L4 21.41c.39.39.9.59 1.41.59.51 0 1.02-.2 1.41-.59l7.78-7.78 2.81-2.81c.8-.78.8-2.07 0-2.86zM5.41 20L4 18.59l7.72-7.72 1.47 1.35L5.41 20z\"/>\n",
              "  </svg>\n",
              "      </button>\n",
              "      \n",
              "  <style>\n",
              "    .colab-df-container {\n",
              "      display:flex;\n",
              "      flex-wrap:wrap;\n",
              "      gap: 12px;\n",
              "    }\n",
              "\n",
              "    .colab-df-convert {\n",
              "      background-color: #E8F0FE;\n",
              "      border: none;\n",
              "      border-radius: 50%;\n",
              "      cursor: pointer;\n",
              "      display: none;\n",
              "      fill: #1967D2;\n",
              "      height: 32px;\n",
              "      padding: 0 0 0 0;\n",
              "      width: 32px;\n",
              "    }\n",
              "\n",
              "    .colab-df-convert:hover {\n",
              "      background-color: #E2EBFA;\n",
              "      box-shadow: 0px 1px 2px rgba(60, 64, 67, 0.3), 0px 1px 3px 1px rgba(60, 64, 67, 0.15);\n",
              "      fill: #174EA6;\n",
              "    }\n",
              "\n",
              "    [theme=dark] .colab-df-convert {\n",
              "      background-color: #3B4455;\n",
              "      fill: #D2E3FC;\n",
              "    }\n",
              "\n",
              "    [theme=dark] .colab-df-convert:hover {\n",
              "      background-color: #434B5C;\n",
              "      box-shadow: 0px 1px 3px 1px rgba(0, 0, 0, 0.15);\n",
              "      filter: drop-shadow(0px 1px 2px rgba(0, 0, 0, 0.3));\n",
              "      fill: #FFFFFF;\n",
              "    }\n",
              "  </style>\n",
              "\n",
              "      <script>\n",
              "        const buttonEl =\n",
              "          document.querySelector('#df-c2059f91-b4a4-42ec-9ae7-37b9b3a1d7c8 button.colab-df-convert');\n",
              "        buttonEl.style.display =\n",
              "          google.colab.kernel.accessAllowed ? 'block' : 'none';\n",
              "\n",
              "        async function convertToInteractive(key) {\n",
              "          const element = document.querySelector('#df-c2059f91-b4a4-42ec-9ae7-37b9b3a1d7c8');\n",
              "          const dataTable =\n",
              "            await google.colab.kernel.invokeFunction('convertToInteractive',\n",
              "                                                     [key], {});\n",
              "          if (!dataTable) return;\n",
              "\n",
              "          const docLinkHtml = 'Like what you see? Visit the ' +\n",
              "            '<a target=\"_blank\" href=https://colab.research.google.com/notebooks/data_table.ipynb>data table notebook</a>'\n",
              "            + ' to learn more about interactive tables.';\n",
              "          element.innerHTML = '';\n",
              "          dataTable['output_type'] = 'display_data';\n",
              "          await google.colab.output.renderOutput(dataTable, element);\n",
              "          const docLink = document.createElement('div');\n",
              "          docLink.innerHTML = docLinkHtml;\n",
              "          element.appendChild(docLink);\n",
              "        }\n",
              "      </script>\n",
              "    </div>\n",
              "  </div>\n",
              "  "
            ]
          },
          "metadata": {},
          "execution_count": 33
        }
      ]
    },
    {
      "cell_type": "code",
      "source": [
        "data['Class'].value_counts()"
      ],
      "metadata": {
        "colab": {
          "base_uri": "https://localhost:8080/"
        },
        "id": "uJYJtd697ExP",
        "outputId": "1f9999bc-20ad-4605-b0ff-981abf4237e4"
      },
      "execution_count": null,
      "outputs": [
        {
          "output_type": "execute_result",
          "data": {
            "text/plain": [
              "0    763\n",
              "1      9\n",
              "Name: Class, dtype: int64"
            ]
          },
          "metadata": {},
          "execution_count": 34
        }
      ]
    },
    {
      "cell_type": "code",
      "source": [
        "data.shape"
      ],
      "metadata": {
        "colab": {
          "base_uri": "https://localhost:8080/"
        },
        "id": "N-RAAVEX8Rfv",
        "outputId": "883c2c64-4de8-40cf-8e99-1c0a8c27593a"
      },
      "execution_count": null,
      "outputs": [
        {
          "output_type": "execute_result",
          "data": {
            "text/plain": [
              "(772, 31)"
            ]
          },
          "metadata": {},
          "execution_count": 35
        }
      ]
    },
    {
      "cell_type": "code",
      "source": [
        "data.info"
      ],
      "metadata": {
        "colab": {
          "base_uri": "https://localhost:8080/"
        },
        "id": "QnzqZjBl8Zlu",
        "outputId": "525d434b-e6dc-4f9c-8bf3-2688d9ffe9b2"
      },
      "execution_count": null,
      "outputs": [
        {
          "output_type": "execute_result",
          "data": {
            "text/plain": [
              "<bound method DataFrame.info of      Time        V1        V2        V3        V4        V5        V6  \\\n",
              "0       0 -1.359807 -0.072781  2.536347  1.378155 -0.338321  0.462388   \n",
              "1       0  1.191857  0.266151  0.166480  0.448154  0.060018 -0.082361   \n",
              "2       1 -1.358354 -1.340163  1.773209  0.379780 -0.503198  1.800499   \n",
              "3       1 -0.966272 -0.185226  1.792993 -0.863291 -0.010309  1.247203   \n",
              "4       2 -1.158233  0.877737  1.548718  0.403034 -0.407193  0.095921   \n",
              "..    ...       ...       ...       ...       ...       ...       ...   \n",
              "767   575 -0.572263  0.731748  1.541254  0.150506  1.108974  0.372152   \n",
              "768   579 -1.296845 -0.511605  2.404726 -0.310762 -0.319551 -0.542842   \n",
              "769   579  1.214170  0.210481  0.484651  0.479768 -0.261955 -0.527039   \n",
              "770   580  1.267030 -0.071114  0.037680  0.512683  0.242392  0.705212   \n",
              "771   581  1.153758  0.132273  0.382969  1.405063 -0.224287 -0.197295   \n",
              "\n",
              "           V7        V8        V9  ...       V21       V22       V23  \\\n",
              "0    0.239599  0.098698  0.363787  ... -0.018307  0.277838 -0.110474   \n",
              "1   -0.078803  0.085102 -0.255425  ... -0.225775 -0.638672  0.101288   \n",
              "2    0.791461  0.247676 -1.514654  ...  0.247998  0.771679  0.909412   \n",
              "3    0.237609  0.377436 -1.387024  ... -0.108300  0.005274 -0.190321   \n",
              "4    0.592941 -0.270533  0.817739  ... -0.009431  0.798278 -0.137458   \n",
              "..        ...       ...       ...  ...       ...       ...       ...   \n",
              "767  1.084879 -0.146329 -0.274447  ... -0.143508 -0.107582 -0.418263   \n",
              "768 -0.173310  0.260423 -1.202688  ... -0.071270 -0.161175  0.088496   \n",
              "769  0.021782 -0.106888 -0.037631  ... -0.224292 -0.594609  0.159877   \n",
              "770 -0.226582  0.109483  0.657565  ... -0.164468 -0.177225 -0.222918   \n",
              "771  0.020653  0.029260  0.412254  ... -0.107809 -0.125231 -0.057041   \n",
              "\n",
              "          V24       V25       V26       V27       V28  Amount  Class  \n",
              "0    0.066928  0.128539 -0.189115  0.133558 -0.021053  149.62      0  \n",
              "1   -0.339846  0.167170  0.125895 -0.008983  0.014724    2.69      1  \n",
              "2   -0.689281 -0.327642 -0.139097 -0.055353 -0.059752  378.66      0  \n",
              "3   -1.175575  0.647376 -0.221929  0.062723  0.061458  123.50      0  \n",
              "4    0.141267 -0.206010  0.502292  0.219422  0.215153   69.99      0  \n",
              "..        ...       ...       ...       ...       ...     ...    ...  \n",
              "767 -0.731029  0.877525 -0.364150 -0.177509 -0.256545   26.72      0  \n",
              "768  0.285390  0.281069 -0.370130  0.043410  0.092318   80.00      0  \n",
              "769  0.091873  0.140964  0.227406 -0.017389  0.016030    5.98      0  \n",
              "770 -1.245505  0.678360  0.525059  0.002920 -0.003333   12.36      0  \n",
              "771  0.073082  0.633977 -0.310685  0.033590  0.015250   13.79      0  \n",
              "\n",
              "[772 rows x 31 columns]>"
            ]
          },
          "metadata": {},
          "execution_count": 36
        }
      ]
    },
    {
      "cell_type": "code",
      "source": [
        "data.isnull().sum()"
      ],
      "metadata": {
        "colab": {
          "base_uri": "https://localhost:8080/"
        },
        "id": "Q12SXD5i8esv",
        "outputId": "304b4587-44f5-423e-9af0-7317891403cb"
      },
      "execution_count": null,
      "outputs": [
        {
          "output_type": "execute_result",
          "data": {
            "text/plain": [
              "Time      0\n",
              "V1        0\n",
              "V2        0\n",
              "V3        0\n",
              "V4        0\n",
              "V5        0\n",
              "V6        0\n",
              "V7        0\n",
              "V8        0\n",
              "V9        0\n",
              "V10       0\n",
              "V11       0\n",
              "V12       0\n",
              "V13       0\n",
              "V14       0\n",
              "V15       0\n",
              "V16       0\n",
              "V17       0\n",
              "V18       0\n",
              "V19       0\n",
              "V20       0\n",
              "V21       0\n",
              "V22       0\n",
              "V23       0\n",
              "V24       0\n",
              "V25       0\n",
              "V26       0\n",
              "V27       0\n",
              "V28       0\n",
              "Amount    0\n",
              "Class     0\n",
              "dtype: int64"
            ]
          },
          "metadata": {},
          "execution_count": 37
        }
      ]
    },
    {
      "cell_type": "code",
      "source": [
        "x1=data.iloc[:,:-1]\n",
        "y1=data.iloc[:,-1]"
      ],
      "metadata": {
        "id": "aGNUJCcOIh0C"
      },
      "execution_count": null,
      "outputs": []
    },
    {
      "cell_type": "code",
      "execution_count": null,
      "metadata": {
        "id": "_oTTziYcCQC-"
      },
      "outputs": [],
      "source": [
        "from sklearn.preprocessing import StandardScaler\n",
        "\n",
        "sc = StandardScaler()\n",
        "data = sc.fit_transform(x1)"
      ]
    },
    {
      "cell_type": "code",
      "source": [
        "from imblearn.over_sampling import SMOTE\n",
        "oversample = SMOTE()\n",
        "x, y = oversample.fit_resample(x1,y1)"
      ],
      "metadata": {
        "id": "4gOwcn1AIVNJ"
      },
      "execution_count": null,
      "outputs": []
    },
    {
      "cell_type": "code",
      "source": [
        "x.shape"
      ],
      "metadata": {
        "colab": {
          "base_uri": "https://localhost:8080/"
        },
        "id": "w1H3mBMDKZco",
        "outputId": "a5f55f1e-145c-435f-ab6d-43e5a6c24936"
      },
      "execution_count": null,
      "outputs": [
        {
          "output_type": "execute_result",
          "data": {
            "text/plain": [
              "(1526, 30)"
            ]
          },
          "metadata": {},
          "execution_count": 41
        }
      ]
    },
    {
      "cell_type": "code",
      "source": [
        "y.shape"
      ],
      "metadata": {
        "colab": {
          "base_uri": "https://localhost:8080/"
        },
        "id": "CWlZ54ynKiRx",
        "outputId": "684c50be-2bcf-4702-9d1d-d6ff350d8ade"
      },
      "execution_count": null,
      "outputs": [
        {
          "output_type": "execute_result",
          "data": {
            "text/plain": [
              "(1526,)"
            ]
          },
          "metadata": {},
          "execution_count": 42
        }
      ]
    },
    {
      "cell_type": "code",
      "source": [
        "y.value_counts()"
      ],
      "metadata": {
        "colab": {
          "base_uri": "https://localhost:8080/"
        },
        "id": "RfD504_fKrZA",
        "outputId": "5a12b532-1778-4e16-d747-bfa519eb4441"
      },
      "execution_count": null,
      "outputs": [
        {
          "output_type": "execute_result",
          "data": {
            "text/plain": [
              "0    763\n",
              "1    763\n",
              "Name: Class, dtype: int64"
            ]
          },
          "metadata": {},
          "execution_count": 9
        }
      ]
    },
    {
      "cell_type": "code",
      "source": [
        "y=pd.DataFrame(y)\n",
        "x=pd.DataFrame(x)"
      ],
      "metadata": {
        "id": "zJiBjZm2OUic"
      },
      "execution_count": null,
      "outputs": []
    },
    {
      "cell_type": "code",
      "source": [
        "frames = [x,y]\n",
        "df = pd.concat(frames,axis=1, join='inner')\n",
        "df=pd.DataFrame(df)"
      ],
      "metadata": {
        "id": "CNcj47N1NkH3"
      },
      "execution_count": null,
      "outputs": []
    },
    {
      "cell_type": "markdown",
      "source": [
        "Sample sizes for different samples"
      ],
      "metadata": {
        "id": "rRy3hGN9LCzR"
      }
    },
    {
      "cell_type": "code",
      "source": [
        "#Simple Random sampling\n",
        "import math\n",
        "\n",
        "def sampling1():\n",
        "  z=1.96\n",
        "  p=0.5\n",
        "  E=0.05\n",
        "  n1=(z*z*p*(1-p))/(E*E)\n",
        "  n1=math.ceil(n1)\n",
        "  #n1=385\n",
        "  sample1=df.sample(n=n1)\n",
        "  return sample1"
      ],
      "metadata": {
        "id": "Ukf3yFcQK5di"
      },
      "execution_count": null,
      "outputs": []
    },
    {
      "cell_type": "code",
      "source": [
        "#Systematic sampling\n",
        "def sampling2():\n",
        "  indexes = np.arange(0, len(df),step=4)\n",
        "  systematic_sample = df.iloc[indexes]\n",
        "  return systematic_sample"
      ],
      "metadata": {
        "id": "KoPfWAvPTuQW"
      },
      "execution_count": null,
      "outputs": []
    },
    {
      "cell_type": "code",
      "source": [
        "#stratified sampling\n",
        "def sampling3():\n",
        "  z=1.96\n",
        "  p=0.5\n",
        "  E=0.05\n",
        "  S=2\n",
        "  n2=(z*z*p*(1-p))/((E/S)*(E/S))\n",
        "  n2=math.ceil(n2)\n",
        "  #n1=385\n",
        "  sample3=df.groupby('Class', group_keys=False).apply(lambda x: x.sample(200))\n",
        "  return sample3"
      ],
      "metadata": {
        "id": "vZwkkms5TxSg"
      },
      "execution_count": null,
      "outputs": []
    },
    {
      "cell_type": "code",
      "source": [
        "#cluster sampling\n",
        "import random as rd\n",
        "\n",
        "def sampling4():\n",
        "  clusters=5\n",
        "  df1=df\n",
        "  state=None\n",
        "  #print('define variables')\n",
        "  length = len(df1)\n",
        "  #print(f'  - length: {length}')\n",
        "  element_max = length / clusters\n",
        "  #print(f'  - elements by cluster: {element_max}')\n",
        "    \n",
        "  cluster_list = []\n",
        "  cluster_id = 0\n",
        "  element_count = 0\n",
        "  #print('define clusters')\n",
        "  for _ in df.iterrows():\n",
        "      cluster_list.append(cluster_id)\n",
        "      element_count += 1\n",
        "      if element_count > (element_max - 1):\n",
        "          element_count = 0\n",
        "          cluster_id += 1\n",
        "    \n",
        "  df1['cluster'] = cluster_list\n",
        "  #print(' - cluster list')\n",
        "  #print(df1['cluster'].value_counts())\n",
        "  #print('')\n",
        "  rd.seed(state)\n",
        "  cluster_selected = rd.randint(0, clusters - 1)\n",
        "  #print('cluster selected:',cluster_selected)\n",
        "  dataframe_clustered = df1[df1['cluster'] == cluster_selected]\n",
        "  #print('cluster size:',dataframe_clustered.shape[0],'\\n')\n",
        "  sample=dataframe_clustered.iloc[:,:-1]\n",
        "  return sample\n",
        "\n",
        "sampling4()"
      ],
      "metadata": {
        "colab": {
          "base_uri": "https://localhost:8080/",
          "height": 487
        },
        "id": "TFcRBSXH4k5P",
        "outputId": "99f18b9d-bfeb-46be-a829-da3d706bac6a"
      },
      "execution_count": null,
      "outputs": [
        {
          "output_type": "execute_result",
          "data": {
            "text/plain": [
              "      Time        V1        V2        V3        V4        V5        V6  \\\n",
              "1220   433 -2.242445  0.956191 -0.697000  3.358025  0.145982 -0.974081   \n",
              "1221   363 -1.895483  1.707269 -1.249701  3.319624 -0.287217 -1.133424   \n",
              "1222    39  1.213041  0.294416  0.212172  0.530448 -0.084940 -0.414243   \n",
              "1223   510 -0.100211  0.968496 -0.422176  1.948651 -0.420324 -1.204061   \n",
              "1224   541 -1.516098  0.075906  1.121705 -0.556612  0.825697 -0.349385   \n",
              "...    ...       ...       ...       ...       ...       ...       ...   \n",
              "1520   407 -2.288233  1.941324 -1.596968  3.975677 -0.521083 -1.424132   \n",
              "1521   481 -1.353103 -0.316142  1.610004  0.605783  1.045429 -0.933917   \n",
              "1522   532 -1.713932 -2.243867  2.277111  1.100518  2.213949  0.448076   \n",
              "1523   520 -1.469103  0.167599  1.371279 -0.377588  0.935839 -0.494344   \n",
              "1524   536 -1.750539  0.092328  1.128758 -0.559633  0.890549 -0.315441   \n",
              "\n",
              "            V7        V8        V9  ...       V21       V22       V23  \\\n",
              "1220 -2.441735  1.256575 -1.935179  ...  0.496011  0.240450 -0.294363   \n",
              "1221 -2.042389  1.172927 -2.307698  ...  0.404389 -0.095644 -0.357568   \n",
              "1222 -0.023175 -0.011631 -0.157805  ... -0.246543 -0.703849  0.110290   \n",
              "1223 -0.906754  0.399049 -1.044725  ...  0.019002 -0.521829 -0.097853   \n",
              "1224  0.256103  0.114574  0.022795  ... -0.187514 -0.238713 -0.232955   \n",
              "...        ...       ...       ...  ...       ...       ...       ...   \n",
              "1520 -2.519700  1.380890 -2.751374  ...  0.511828 -0.040329 -0.461226   \n",
              "1521  0.767824 -0.138750 -0.168002  ...  0.185964  0.312338  0.070307   \n",
              "1522 -1.916254  0.700495  0.875733  ...  0.360053  1.018039  0.282866   \n",
              "1523  0.471878  0.041809 -0.031590  ... -0.097787 -0.034632 -0.260578   \n",
              "1524  0.210585  0.166708 -0.034765  ... -0.165022 -0.188764 -0.266118   \n",
              "\n",
              "           V24       V25       V26       V27       V28      Amount  Class  \n",
              "1220  0.056597 -0.014556  0.330805  0.174771 -0.149497    0.335854      1  \n",
              "1221  0.026004 -0.205905  0.159948  0.256010 -0.078041    0.172936      1  \n",
              "1222 -0.111645  0.183556  0.115416 -0.013811  0.020156    2.690000      1  \n",
              "1223  0.334406  0.153945  0.126133  0.085585 -0.035325    0.799312      1  \n",
              "1224 -0.194365 -0.293744  0.229487 -0.321150 -0.352785    1.021533      1  \n",
              "...        ...       ...       ...       ...       ...         ...    ...  \n",
              "1520  0.320352  0.045706  0.177279  0.259241 -0.142105    0.008670      1  \n",
              "1521  0.248928  0.368752 -0.391874 -0.134248 -0.093312  107.080506      1  \n",
              "1522 -0.751519 -0.180576  0.793578 -0.115611 -0.153290    1.481526      1  \n",
              "1523 -0.030384 -0.093602  0.009518 -0.265106 -0.297849    1.000000      1  \n",
              "1524 -0.225852 -0.327129  0.239020 -0.332492 -0.378555    0.979156      1  \n",
              "\n",
              "[305 rows x 31 columns]"
            ],
            "text/html": [
              "\n",
              "  <div id=\"df-9ceb6ff9-4144-468b-94d9-c59b3118b70e\">\n",
              "    <div class=\"colab-df-container\">\n",
              "      <div>\n",
              "<style scoped>\n",
              "    .dataframe tbody tr th:only-of-type {\n",
              "        vertical-align: middle;\n",
              "    }\n",
              "\n",
              "    .dataframe tbody tr th {\n",
              "        vertical-align: top;\n",
              "    }\n",
              "\n",
              "    .dataframe thead th {\n",
              "        text-align: right;\n",
              "    }\n",
              "</style>\n",
              "<table border=\"1\" class=\"dataframe\">\n",
              "  <thead>\n",
              "    <tr style=\"text-align: right;\">\n",
              "      <th></th>\n",
              "      <th>Time</th>\n",
              "      <th>V1</th>\n",
              "      <th>V2</th>\n",
              "      <th>V3</th>\n",
              "      <th>V4</th>\n",
              "      <th>V5</th>\n",
              "      <th>V6</th>\n",
              "      <th>V7</th>\n",
              "      <th>V8</th>\n",
              "      <th>V9</th>\n",
              "      <th>...</th>\n",
              "      <th>V21</th>\n",
              "      <th>V22</th>\n",
              "      <th>V23</th>\n",
              "      <th>V24</th>\n",
              "      <th>V25</th>\n",
              "      <th>V26</th>\n",
              "      <th>V27</th>\n",
              "      <th>V28</th>\n",
              "      <th>Amount</th>\n",
              "      <th>Class</th>\n",
              "    </tr>\n",
              "  </thead>\n",
              "  <tbody>\n",
              "    <tr>\n",
              "      <th>1220</th>\n",
              "      <td>433</td>\n",
              "      <td>-2.242445</td>\n",
              "      <td>0.956191</td>\n",
              "      <td>-0.697000</td>\n",
              "      <td>3.358025</td>\n",
              "      <td>0.145982</td>\n",
              "      <td>-0.974081</td>\n",
              "      <td>-2.441735</td>\n",
              "      <td>1.256575</td>\n",
              "      <td>-1.935179</td>\n",
              "      <td>...</td>\n",
              "      <td>0.496011</td>\n",
              "      <td>0.240450</td>\n",
              "      <td>-0.294363</td>\n",
              "      <td>0.056597</td>\n",
              "      <td>-0.014556</td>\n",
              "      <td>0.330805</td>\n",
              "      <td>0.174771</td>\n",
              "      <td>-0.149497</td>\n",
              "      <td>0.335854</td>\n",
              "      <td>1</td>\n",
              "    </tr>\n",
              "    <tr>\n",
              "      <th>1221</th>\n",
              "      <td>363</td>\n",
              "      <td>-1.895483</td>\n",
              "      <td>1.707269</td>\n",
              "      <td>-1.249701</td>\n",
              "      <td>3.319624</td>\n",
              "      <td>-0.287217</td>\n",
              "      <td>-1.133424</td>\n",
              "      <td>-2.042389</td>\n",
              "      <td>1.172927</td>\n",
              "      <td>-2.307698</td>\n",
              "      <td>...</td>\n",
              "      <td>0.404389</td>\n",
              "      <td>-0.095644</td>\n",
              "      <td>-0.357568</td>\n",
              "      <td>0.026004</td>\n",
              "      <td>-0.205905</td>\n",
              "      <td>0.159948</td>\n",
              "      <td>0.256010</td>\n",
              "      <td>-0.078041</td>\n",
              "      <td>0.172936</td>\n",
              "      <td>1</td>\n",
              "    </tr>\n",
              "    <tr>\n",
              "      <th>1222</th>\n",
              "      <td>39</td>\n",
              "      <td>1.213041</td>\n",
              "      <td>0.294416</td>\n",
              "      <td>0.212172</td>\n",
              "      <td>0.530448</td>\n",
              "      <td>-0.084940</td>\n",
              "      <td>-0.414243</td>\n",
              "      <td>-0.023175</td>\n",
              "      <td>-0.011631</td>\n",
              "      <td>-0.157805</td>\n",
              "      <td>...</td>\n",
              "      <td>-0.246543</td>\n",
              "      <td>-0.703849</td>\n",
              "      <td>0.110290</td>\n",
              "      <td>-0.111645</td>\n",
              "      <td>0.183556</td>\n",
              "      <td>0.115416</td>\n",
              "      <td>-0.013811</td>\n",
              "      <td>0.020156</td>\n",
              "      <td>2.690000</td>\n",
              "      <td>1</td>\n",
              "    </tr>\n",
              "    <tr>\n",
              "      <th>1223</th>\n",
              "      <td>510</td>\n",
              "      <td>-0.100211</td>\n",
              "      <td>0.968496</td>\n",
              "      <td>-0.422176</td>\n",
              "      <td>1.948651</td>\n",
              "      <td>-0.420324</td>\n",
              "      <td>-1.204061</td>\n",
              "      <td>-0.906754</td>\n",
              "      <td>0.399049</td>\n",
              "      <td>-1.044725</td>\n",
              "      <td>...</td>\n",
              "      <td>0.019002</td>\n",
              "      <td>-0.521829</td>\n",
              "      <td>-0.097853</td>\n",
              "      <td>0.334406</td>\n",
              "      <td>0.153945</td>\n",
              "      <td>0.126133</td>\n",
              "      <td>0.085585</td>\n",
              "      <td>-0.035325</td>\n",
              "      <td>0.799312</td>\n",
              "      <td>1</td>\n",
              "    </tr>\n",
              "    <tr>\n",
              "      <th>1224</th>\n",
              "      <td>541</td>\n",
              "      <td>-1.516098</td>\n",
              "      <td>0.075906</td>\n",
              "      <td>1.121705</td>\n",
              "      <td>-0.556612</td>\n",
              "      <td>0.825697</td>\n",
              "      <td>-0.349385</td>\n",
              "      <td>0.256103</td>\n",
              "      <td>0.114574</td>\n",
              "      <td>0.022795</td>\n",
              "      <td>...</td>\n",
              "      <td>-0.187514</td>\n",
              "      <td>-0.238713</td>\n",
              "      <td>-0.232955</td>\n",
              "      <td>-0.194365</td>\n",
              "      <td>-0.293744</td>\n",
              "      <td>0.229487</td>\n",
              "      <td>-0.321150</td>\n",
              "      <td>-0.352785</td>\n",
              "      <td>1.021533</td>\n",
              "      <td>1</td>\n",
              "    </tr>\n",
              "    <tr>\n",
              "      <th>...</th>\n",
              "      <td>...</td>\n",
              "      <td>...</td>\n",
              "      <td>...</td>\n",
              "      <td>...</td>\n",
              "      <td>...</td>\n",
              "      <td>...</td>\n",
              "      <td>...</td>\n",
              "      <td>...</td>\n",
              "      <td>...</td>\n",
              "      <td>...</td>\n",
              "      <td>...</td>\n",
              "      <td>...</td>\n",
              "      <td>...</td>\n",
              "      <td>...</td>\n",
              "      <td>...</td>\n",
              "      <td>...</td>\n",
              "      <td>...</td>\n",
              "      <td>...</td>\n",
              "      <td>...</td>\n",
              "      <td>...</td>\n",
              "      <td>...</td>\n",
              "    </tr>\n",
              "    <tr>\n",
              "      <th>1520</th>\n",
              "      <td>407</td>\n",
              "      <td>-2.288233</td>\n",
              "      <td>1.941324</td>\n",
              "      <td>-1.596968</td>\n",
              "      <td>3.975677</td>\n",
              "      <td>-0.521083</td>\n",
              "      <td>-1.424132</td>\n",
              "      <td>-2.519700</td>\n",
              "      <td>1.380890</td>\n",
              "      <td>-2.751374</td>\n",
              "      <td>...</td>\n",
              "      <td>0.511828</td>\n",
              "      <td>-0.040329</td>\n",
              "      <td>-0.461226</td>\n",
              "      <td>0.320352</td>\n",
              "      <td>0.045706</td>\n",
              "      <td>0.177279</td>\n",
              "      <td>0.259241</td>\n",
              "      <td>-0.142105</td>\n",
              "      <td>0.008670</td>\n",
              "      <td>1</td>\n",
              "    </tr>\n",
              "    <tr>\n",
              "      <th>1521</th>\n",
              "      <td>481</td>\n",
              "      <td>-1.353103</td>\n",
              "      <td>-0.316142</td>\n",
              "      <td>1.610004</td>\n",
              "      <td>0.605783</td>\n",
              "      <td>1.045429</td>\n",
              "      <td>-0.933917</td>\n",
              "      <td>0.767824</td>\n",
              "      <td>-0.138750</td>\n",
              "      <td>-0.168002</td>\n",
              "      <td>...</td>\n",
              "      <td>0.185964</td>\n",
              "      <td>0.312338</td>\n",
              "      <td>0.070307</td>\n",
              "      <td>0.248928</td>\n",
              "      <td>0.368752</td>\n",
              "      <td>-0.391874</td>\n",
              "      <td>-0.134248</td>\n",
              "      <td>-0.093312</td>\n",
              "      <td>107.080506</td>\n",
              "      <td>1</td>\n",
              "    </tr>\n",
              "    <tr>\n",
              "      <th>1522</th>\n",
              "      <td>532</td>\n",
              "      <td>-1.713932</td>\n",
              "      <td>-2.243867</td>\n",
              "      <td>2.277111</td>\n",
              "      <td>1.100518</td>\n",
              "      <td>2.213949</td>\n",
              "      <td>0.448076</td>\n",
              "      <td>-1.916254</td>\n",
              "      <td>0.700495</td>\n",
              "      <td>0.875733</td>\n",
              "      <td>...</td>\n",
              "      <td>0.360053</td>\n",
              "      <td>1.018039</td>\n",
              "      <td>0.282866</td>\n",
              "      <td>-0.751519</td>\n",
              "      <td>-0.180576</td>\n",
              "      <td>0.793578</td>\n",
              "      <td>-0.115611</td>\n",
              "      <td>-0.153290</td>\n",
              "      <td>1.481526</td>\n",
              "      <td>1</td>\n",
              "    </tr>\n",
              "    <tr>\n",
              "      <th>1523</th>\n",
              "      <td>520</td>\n",
              "      <td>-1.469103</td>\n",
              "      <td>0.167599</td>\n",
              "      <td>1.371279</td>\n",
              "      <td>-0.377588</td>\n",
              "      <td>0.935839</td>\n",
              "      <td>-0.494344</td>\n",
              "      <td>0.471878</td>\n",
              "      <td>0.041809</td>\n",
              "      <td>-0.031590</td>\n",
              "      <td>...</td>\n",
              "      <td>-0.097787</td>\n",
              "      <td>-0.034632</td>\n",
              "      <td>-0.260578</td>\n",
              "      <td>-0.030384</td>\n",
              "      <td>-0.093602</td>\n",
              "      <td>0.009518</td>\n",
              "      <td>-0.265106</td>\n",
              "      <td>-0.297849</td>\n",
              "      <td>1.000000</td>\n",
              "      <td>1</td>\n",
              "    </tr>\n",
              "    <tr>\n",
              "      <th>1524</th>\n",
              "      <td>536</td>\n",
              "      <td>-1.750539</td>\n",
              "      <td>0.092328</td>\n",
              "      <td>1.128758</td>\n",
              "      <td>-0.559633</td>\n",
              "      <td>0.890549</td>\n",
              "      <td>-0.315441</td>\n",
              "      <td>0.210585</td>\n",
              "      <td>0.166708</td>\n",
              "      <td>-0.034765</td>\n",
              "      <td>...</td>\n",
              "      <td>-0.165022</td>\n",
              "      <td>-0.188764</td>\n",
              "      <td>-0.266118</td>\n",
              "      <td>-0.225852</td>\n",
              "      <td>-0.327129</td>\n",
              "      <td>0.239020</td>\n",
              "      <td>-0.332492</td>\n",
              "      <td>-0.378555</td>\n",
              "      <td>0.979156</td>\n",
              "      <td>1</td>\n",
              "    </tr>\n",
              "  </tbody>\n",
              "</table>\n",
              "<p>305 rows × 31 columns</p>\n",
              "</div>\n",
              "      <button class=\"colab-df-convert\" onclick=\"convertToInteractive('df-9ceb6ff9-4144-468b-94d9-c59b3118b70e')\"\n",
              "              title=\"Convert this dataframe to an interactive table.\"\n",
              "              style=\"display:none;\">\n",
              "        \n",
              "  <svg xmlns=\"http://www.w3.org/2000/svg\" height=\"24px\"viewBox=\"0 0 24 24\"\n",
              "       width=\"24px\">\n",
              "    <path d=\"M0 0h24v24H0V0z\" fill=\"none\"/>\n",
              "    <path d=\"M18.56 5.44l.94 2.06.94-2.06 2.06-.94-2.06-.94-.94-2.06-.94 2.06-2.06.94zm-11 1L8.5 8.5l.94-2.06 2.06-.94-2.06-.94L8.5 2.5l-.94 2.06-2.06.94zm10 10l.94 2.06.94-2.06 2.06-.94-2.06-.94-.94-2.06-.94 2.06-2.06.94z\"/><path d=\"M17.41 7.96l-1.37-1.37c-.4-.4-.92-.59-1.43-.59-.52 0-1.04.2-1.43.59L10.3 9.45l-7.72 7.72c-.78.78-.78 2.05 0 2.83L4 21.41c.39.39.9.59 1.41.59.51 0 1.02-.2 1.41-.59l7.78-7.78 2.81-2.81c.8-.78.8-2.07 0-2.86zM5.41 20L4 18.59l7.72-7.72 1.47 1.35L5.41 20z\"/>\n",
              "  </svg>\n",
              "      </button>\n",
              "      \n",
              "  <style>\n",
              "    .colab-df-container {\n",
              "      display:flex;\n",
              "      flex-wrap:wrap;\n",
              "      gap: 12px;\n",
              "    }\n",
              "\n",
              "    .colab-df-convert {\n",
              "      background-color: #E8F0FE;\n",
              "      border: none;\n",
              "      border-radius: 50%;\n",
              "      cursor: pointer;\n",
              "      display: none;\n",
              "      fill: #1967D2;\n",
              "      height: 32px;\n",
              "      padding: 0 0 0 0;\n",
              "      width: 32px;\n",
              "    }\n",
              "\n",
              "    .colab-df-convert:hover {\n",
              "      background-color: #E2EBFA;\n",
              "      box-shadow: 0px 1px 2px rgba(60, 64, 67, 0.3), 0px 1px 3px 1px rgba(60, 64, 67, 0.15);\n",
              "      fill: #174EA6;\n",
              "    }\n",
              "\n",
              "    [theme=dark] .colab-df-convert {\n",
              "      background-color: #3B4455;\n",
              "      fill: #D2E3FC;\n",
              "    }\n",
              "\n",
              "    [theme=dark] .colab-df-convert:hover {\n",
              "      background-color: #434B5C;\n",
              "      box-shadow: 0px 1px 3px 1px rgba(0, 0, 0, 0.15);\n",
              "      filter: drop-shadow(0px 1px 2px rgba(0, 0, 0, 0.3));\n",
              "      fill: #FFFFFF;\n",
              "    }\n",
              "  </style>\n",
              "\n",
              "      <script>\n",
              "        const buttonEl =\n",
              "          document.querySelector('#df-9ceb6ff9-4144-468b-94d9-c59b3118b70e button.colab-df-convert');\n",
              "        buttonEl.style.display =\n",
              "          google.colab.kernel.accessAllowed ? 'block' : 'none';\n",
              "\n",
              "        async function convertToInteractive(key) {\n",
              "          const element = document.querySelector('#df-9ceb6ff9-4144-468b-94d9-c59b3118b70e');\n",
              "          const dataTable =\n",
              "            await google.colab.kernel.invokeFunction('convertToInteractive',\n",
              "                                                     [key], {});\n",
              "          if (!dataTable) return;\n",
              "\n",
              "          const docLinkHtml = 'Like what you see? Visit the ' +\n",
              "            '<a target=\"_blank\" href=https://colab.research.google.com/notebooks/data_table.ipynb>data table notebook</a>'\n",
              "            + ' to learn more about interactive tables.';\n",
              "          element.innerHTML = '';\n",
              "          dataTable['output_type'] = 'display_data';\n",
              "          await google.colab.output.renderOutput(dataTable, element);\n",
              "          const docLink = document.createElement('div');\n",
              "          docLink.innerHTML = docLinkHtml;\n",
              "          element.appendChild(docLink);\n",
              "        }\n",
              "      </script>\n",
              "    </div>\n",
              "  </div>\n",
              "  "
            ]
          },
          "metadata": {},
          "execution_count": 63
        }
      ]
    },
    {
      "cell_type": "code",
      "source": [
        "from sklearn.linear_model import LogisticRegression\n",
        "from sklearn.metrics import accuracy_score\n",
        "model = LogisticRegression()\n",
        "sample=sampling4()\n",
        "trainx=sample.iloc[:,:-1]\n",
        "trainy=sample.iloc[:,-1]\n",
        "testx=x1\n",
        "testy=y1\n",
        "model.fit(trainx,trainy)\n",
        "y_pred = model.predict(testx)\n",
        "model_accuracy = accuracy_score(testy,y_pred)\n",
        "print(model_accuracy)"
      ],
      "metadata": {
        "colab": {
          "base_uri": "https://localhost:8080/"
        },
        "id": "zPkVAplxhw9r",
        "outputId": "7c302fb2-6433-4ca2-f6c3-a7cac8bc5a29"
      },
      "execution_count": null,
      "outputs": [
        {
          "output_type": "stream",
          "name": "stdout",
          "text": [
            "0.9896373056994818\n"
          ]
        },
        {
          "output_type": "stream",
          "name": "stderr",
          "text": [
            "/usr/local/lib/python3.8/dist-packages/sklearn/linear_model/_logistic.py:814: ConvergenceWarning: lbfgs failed to converge (status=1):\n",
            "STOP: TOTAL NO. of ITERATIONS REACHED LIMIT.\n",
            "\n",
            "Increase the number of iterations (max_iter) or scale the data as shown in:\n",
            "    https://scikit-learn.org/stable/modules/preprocessing.html\n",
            "Please also refer to the documentation for alternative solver options:\n",
            "    https://scikit-learn.org/stable/modules/linear_model.html#logistic-regression\n",
            "  n_iter_i = _check_optimize_result(\n"
          ]
        }
      ]
    },
    {
      "cell_type": "code",
      "execution_count": null,
      "metadata": {
        "id": "q0Sh-lJ3CQDC"
      },
      "outputs": [],
      "source": [
        "from sklearn.model_selection import train_test_split\n",
        "from sklearn.metrics import accuracy_score\n",
        "\n",
        "def train_model(model, sampling):\n",
        "    #trainx, testx, trainy, testy = train_test_split(x,y,random_state=42, test_size=0.3)\n",
        "    if(sampling=='sample1'):\n",
        "      sample=sampling1()\n",
        "    elif(sampling=='sample2'):\n",
        "      sample=sampling2()\n",
        "    elif(sampling=='sample3'):\n",
        "      sample=sampling3()\n",
        "    elif(sampling=='sample4'):\n",
        "      sample=sampling4()\n",
        "    trainx=sample.iloc[:,:-1]\n",
        "    trainy=sample.iloc[:,-1]\n",
        "    testx=x1\n",
        "    testy=y1\n",
        "    model.fit(trainx,trainy)\n",
        "    y_pred = model.predict(testx)\n",
        "    model_accuracy = accuracy_score(testy,y_pred)\n",
        "    return model_accuracy\n",
        "\n"
      ]
    },
    {
      "cell_type": "code",
      "source": [
        "#make models ki list\n",
        "# train sample pe hoga and test original data pe hoga\n",
        "from sklearn.naive_bayes import GaussianNB \n",
        "from sklearn.linear_model import LogisticRegression\n",
        "from sklearn.neighbors import KNeighborsClassifier\n",
        "from sklearn.svm import SVC\n",
        "from sklearn.tree import DecisionTreeClassifier\n",
        "\n",
        "def main():\n",
        "  Naive_Bayes = GaussianNB()\n",
        "  Logistic = LogisticRegression()\n",
        "  Knn = KNeighborsClassifier(n_neighbors=5)\n",
        "  SVM = SVC(kernel='linear') \n",
        "  Decision_tree = DecisionTreeClassifier(criterion = \"gini\", random_state = 100,max_depth=3, min_samples_leaf=5)\n",
        "  models=[Naive_Bayes,Logistic,Knn,SVM,Decision_tree]\n",
        "  #sample1=sampling1()\n",
        "  samplings=['sample1','sample2','sample3','sample4']\n",
        "  final=[]\n",
        "  for i in range(4):\n",
        "    final_sample=[]\n",
        "    for j in range(5):\n",
        "      score=train_model(models[j], samplings[i])\n",
        "      final_sample.append(score)\n",
        "    print(final_sample)\n",
        "    final.append(final_sample)\n",
        "  final=pd.DataFrame(final)\n",
        "  print(final)\n",
        "\n",
        "main()"
      ],
      "metadata": {
        "id": "aotzFac4T02r",
        "colab": {
          "base_uri": "https://localhost:8080/",
          "height": 499
        },
        "outputId": "e96d3f1c-cd00-4b8f-acf6-237f509142ed"
      },
      "execution_count": null,
      "outputs": [
        {
          "output_type": "stream",
          "name": "stderr",
          "text": [
            "/usr/local/lib/python3.8/dist-packages/sklearn/base.py:493: FutureWarning: The feature names should match those that were passed during fit. Starting version 1.2, an error will be raised.\n",
            "Feature names seen at fit time, yet now missing:\n",
            "- Class\n",
            "\n",
            "  warnings.warn(message, FutureWarning)\n"
          ]
        },
        {
          "output_type": "error",
          "ename": "ValueError",
          "evalue": "ignored",
          "traceback": [
            "\u001b[0;31m---------------------------------------------------------------------------\u001b[0m",
            "\u001b[0;31mValueError\u001b[0m                                Traceback (most recent call last)",
            "\u001b[0;32m<ipython-input-65-c482fede4558>\u001b[0m in \u001b[0;36m<module>\u001b[0;34m\u001b[0m\n\u001b[1;32m     27\u001b[0m   \u001b[0mprint\u001b[0m\u001b[0;34m(\u001b[0m\u001b[0mfinal\u001b[0m\u001b[0;34m)\u001b[0m\u001b[0;34m\u001b[0m\u001b[0;34m\u001b[0m\u001b[0m\n\u001b[1;32m     28\u001b[0m \u001b[0;34m\u001b[0m\u001b[0m\n\u001b[0;32m---> 29\u001b[0;31m \u001b[0mmain\u001b[0m\u001b[0;34m(\u001b[0m\u001b[0;34m)\u001b[0m\u001b[0;34m\u001b[0m\u001b[0;34m\u001b[0m\u001b[0m\n\u001b[0m",
            "\u001b[0;32m<ipython-input-65-c482fede4558>\u001b[0m in \u001b[0;36mmain\u001b[0;34m()\u001b[0m\n\u001b[1;32m     20\u001b[0m     \u001b[0mfinal_sample\u001b[0m\u001b[0;34m=\u001b[0m\u001b[0;34m[\u001b[0m\u001b[0;34m]\u001b[0m\u001b[0;34m\u001b[0m\u001b[0;34m\u001b[0m\u001b[0m\n\u001b[1;32m     21\u001b[0m     \u001b[0;32mfor\u001b[0m \u001b[0mj\u001b[0m \u001b[0;32min\u001b[0m \u001b[0mrange\u001b[0m\u001b[0;34m(\u001b[0m\u001b[0;36m5\u001b[0m\u001b[0;34m)\u001b[0m\u001b[0;34m:\u001b[0m\u001b[0;34m\u001b[0m\u001b[0;34m\u001b[0m\u001b[0m\n\u001b[0;32m---> 22\u001b[0;31m       \u001b[0mscore\u001b[0m\u001b[0;34m=\u001b[0m\u001b[0mtrain_model\u001b[0m\u001b[0;34m(\u001b[0m\u001b[0mmodels\u001b[0m\u001b[0;34m[\u001b[0m\u001b[0mj\u001b[0m\u001b[0;34m]\u001b[0m\u001b[0;34m,\u001b[0m \u001b[0msamplings\u001b[0m\u001b[0;34m[\u001b[0m\u001b[0mi\u001b[0m\u001b[0;34m]\u001b[0m\u001b[0;34m)\u001b[0m\u001b[0;34m\u001b[0m\u001b[0;34m\u001b[0m\u001b[0m\n\u001b[0m\u001b[1;32m     23\u001b[0m       \u001b[0mfinal_sample\u001b[0m\u001b[0;34m.\u001b[0m\u001b[0mappend\u001b[0m\u001b[0;34m(\u001b[0m\u001b[0mscore\u001b[0m\u001b[0;34m)\u001b[0m\u001b[0;34m\u001b[0m\u001b[0;34m\u001b[0m\u001b[0m\n\u001b[1;32m     24\u001b[0m     \u001b[0mprint\u001b[0m\u001b[0;34m(\u001b[0m\u001b[0mfinal_sample\u001b[0m\u001b[0;34m)\u001b[0m\u001b[0;34m\u001b[0m\u001b[0;34m\u001b[0m\u001b[0m\n",
            "\u001b[0;32m<ipython-input-64-131bac6732ed>\u001b[0m in \u001b[0;36mtrain_model\u001b[0;34m(model, sampling)\u001b[0m\n\u001b[1;32m     17\u001b[0m     \u001b[0mtesty\u001b[0m\u001b[0;34m=\u001b[0m\u001b[0my1\u001b[0m\u001b[0;34m\u001b[0m\u001b[0;34m\u001b[0m\u001b[0m\n\u001b[1;32m     18\u001b[0m     \u001b[0mmodel\u001b[0m\u001b[0;34m.\u001b[0m\u001b[0mfit\u001b[0m\u001b[0;34m(\u001b[0m\u001b[0mtrainx\u001b[0m\u001b[0;34m,\u001b[0m\u001b[0mtrainy\u001b[0m\u001b[0;34m)\u001b[0m\u001b[0;34m\u001b[0m\u001b[0;34m\u001b[0m\u001b[0m\n\u001b[0;32m---> 19\u001b[0;31m     \u001b[0my_pred\u001b[0m \u001b[0;34m=\u001b[0m \u001b[0mmodel\u001b[0m\u001b[0;34m.\u001b[0m\u001b[0mpredict\u001b[0m\u001b[0;34m(\u001b[0m\u001b[0mtestx\u001b[0m\u001b[0;34m)\u001b[0m\u001b[0;34m\u001b[0m\u001b[0;34m\u001b[0m\u001b[0m\n\u001b[0m\u001b[1;32m     20\u001b[0m     \u001b[0mmodel_accuracy\u001b[0m \u001b[0;34m=\u001b[0m \u001b[0maccuracy_score\u001b[0m\u001b[0;34m(\u001b[0m\u001b[0mtesty\u001b[0m\u001b[0;34m,\u001b[0m\u001b[0my_pred\u001b[0m\u001b[0;34m)\u001b[0m\u001b[0;34m\u001b[0m\u001b[0;34m\u001b[0m\u001b[0m\n\u001b[1;32m     21\u001b[0m     \u001b[0;32mreturn\u001b[0m \u001b[0mmodel_accuracy\u001b[0m\u001b[0;34m\u001b[0m\u001b[0;34m\u001b[0m\u001b[0m\n",
            "\u001b[0;32m/usr/local/lib/python3.8/dist-packages/sklearn/naive_bayes.py\u001b[0m in \u001b[0;36mpredict\u001b[0;34m(self, X)\u001b[0m\n\u001b[1;32m     80\u001b[0m         \"\"\"\n\u001b[1;32m     81\u001b[0m         \u001b[0mcheck_is_fitted\u001b[0m\u001b[0;34m(\u001b[0m\u001b[0mself\u001b[0m\u001b[0;34m)\u001b[0m\u001b[0;34m\u001b[0m\u001b[0;34m\u001b[0m\u001b[0m\n\u001b[0;32m---> 82\u001b[0;31m         \u001b[0mX\u001b[0m \u001b[0;34m=\u001b[0m \u001b[0mself\u001b[0m\u001b[0;34m.\u001b[0m\u001b[0m_check_X\u001b[0m\u001b[0;34m(\u001b[0m\u001b[0mX\u001b[0m\u001b[0;34m)\u001b[0m\u001b[0;34m\u001b[0m\u001b[0;34m\u001b[0m\u001b[0m\n\u001b[0m\u001b[1;32m     83\u001b[0m         \u001b[0mjll\u001b[0m \u001b[0;34m=\u001b[0m \u001b[0mself\u001b[0m\u001b[0;34m.\u001b[0m\u001b[0m_joint_log_likelihood\u001b[0m\u001b[0;34m(\u001b[0m\u001b[0mX\u001b[0m\u001b[0;34m)\u001b[0m\u001b[0;34m\u001b[0m\u001b[0;34m\u001b[0m\u001b[0m\n\u001b[1;32m     84\u001b[0m         \u001b[0;32mreturn\u001b[0m \u001b[0mself\u001b[0m\u001b[0;34m.\u001b[0m\u001b[0mclasses_\u001b[0m\u001b[0;34m[\u001b[0m\u001b[0mnp\u001b[0m\u001b[0;34m.\u001b[0m\u001b[0margmax\u001b[0m\u001b[0;34m(\u001b[0m\u001b[0mjll\u001b[0m\u001b[0;34m,\u001b[0m \u001b[0maxis\u001b[0m\u001b[0;34m=\u001b[0m\u001b[0;36m1\u001b[0m\u001b[0;34m)\u001b[0m\u001b[0;34m]\u001b[0m\u001b[0;34m\u001b[0m\u001b[0;34m\u001b[0m\u001b[0m\n",
            "\u001b[0;32m/usr/local/lib/python3.8/dist-packages/sklearn/naive_bayes.py\u001b[0m in \u001b[0;36m_check_X\u001b[0;34m(self, X)\u001b[0m\n\u001b[1;32m    249\u001b[0m     \u001b[0;32mdef\u001b[0m \u001b[0m_check_X\u001b[0m\u001b[0;34m(\u001b[0m\u001b[0mself\u001b[0m\u001b[0;34m,\u001b[0m \u001b[0mX\u001b[0m\u001b[0;34m)\u001b[0m\u001b[0;34m:\u001b[0m\u001b[0;34m\u001b[0m\u001b[0;34m\u001b[0m\u001b[0m\n\u001b[1;32m    250\u001b[0m         \u001b[0;34m\"\"\"Validate X, used only in predict* methods.\"\"\"\u001b[0m\u001b[0;34m\u001b[0m\u001b[0;34m\u001b[0m\u001b[0m\n\u001b[0;32m--> 251\u001b[0;31m         \u001b[0;32mreturn\u001b[0m \u001b[0mself\u001b[0m\u001b[0;34m.\u001b[0m\u001b[0m_validate_data\u001b[0m\u001b[0;34m(\u001b[0m\u001b[0mX\u001b[0m\u001b[0;34m,\u001b[0m \u001b[0mreset\u001b[0m\u001b[0;34m=\u001b[0m\u001b[0;32mFalse\u001b[0m\u001b[0;34m)\u001b[0m\u001b[0;34m\u001b[0m\u001b[0;34m\u001b[0m\u001b[0m\n\u001b[0m\u001b[1;32m    252\u001b[0m \u001b[0;34m\u001b[0m\u001b[0m\n\u001b[1;32m    253\u001b[0m     \u001b[0;34m@\u001b[0m\u001b[0mstaticmethod\u001b[0m\u001b[0;34m\u001b[0m\u001b[0;34m\u001b[0m\u001b[0m\n",
            "\u001b[0;32m/usr/local/lib/python3.8/dist-packages/sklearn/base.py\u001b[0m in \u001b[0;36m_validate_data\u001b[0;34m(self, X, y, reset, validate_separately, **check_params)\u001b[0m\n\u001b[1;32m    583\u001b[0m \u001b[0;34m\u001b[0m\u001b[0m\n\u001b[1;32m    584\u001b[0m         \u001b[0;32mif\u001b[0m \u001b[0;32mnot\u001b[0m \u001b[0mno_val_X\u001b[0m \u001b[0;32mand\u001b[0m \u001b[0mcheck_params\u001b[0m\u001b[0;34m.\u001b[0m\u001b[0mget\u001b[0m\u001b[0;34m(\u001b[0m\u001b[0;34m\"ensure_2d\"\u001b[0m\u001b[0;34m,\u001b[0m \u001b[0;32mTrue\u001b[0m\u001b[0;34m)\u001b[0m\u001b[0;34m:\u001b[0m\u001b[0;34m\u001b[0m\u001b[0;34m\u001b[0m\u001b[0m\n\u001b[0;32m--> 585\u001b[0;31m             \u001b[0mself\u001b[0m\u001b[0;34m.\u001b[0m\u001b[0m_check_n_features\u001b[0m\u001b[0;34m(\u001b[0m\u001b[0mX\u001b[0m\u001b[0;34m,\u001b[0m \u001b[0mreset\u001b[0m\u001b[0;34m=\u001b[0m\u001b[0mreset\u001b[0m\u001b[0;34m)\u001b[0m\u001b[0;34m\u001b[0m\u001b[0;34m\u001b[0m\u001b[0m\n\u001b[0m\u001b[1;32m    586\u001b[0m \u001b[0;34m\u001b[0m\u001b[0m\n\u001b[1;32m    587\u001b[0m         \u001b[0;32mreturn\u001b[0m \u001b[0mout\u001b[0m\u001b[0;34m\u001b[0m\u001b[0;34m\u001b[0m\u001b[0m\n",
            "\u001b[0;32m/usr/local/lib/python3.8/dist-packages/sklearn/base.py\u001b[0m in \u001b[0;36m_check_n_features\u001b[0;34m(self, X, reset)\u001b[0m\n\u001b[1;32m    398\u001b[0m \u001b[0;34m\u001b[0m\u001b[0m\n\u001b[1;32m    399\u001b[0m         \u001b[0;32mif\u001b[0m \u001b[0mn_features\u001b[0m \u001b[0;34m!=\u001b[0m \u001b[0mself\u001b[0m\u001b[0;34m.\u001b[0m\u001b[0mn_features_in_\u001b[0m\u001b[0;34m:\u001b[0m\u001b[0;34m\u001b[0m\u001b[0;34m\u001b[0m\u001b[0m\n\u001b[0;32m--> 400\u001b[0;31m             raise ValueError(\n\u001b[0m\u001b[1;32m    401\u001b[0m                 \u001b[0;34mf\"X has {n_features} features, but {self.__class__.__name__} \"\u001b[0m\u001b[0;34m\u001b[0m\u001b[0;34m\u001b[0m\u001b[0m\n\u001b[1;32m    402\u001b[0m                 \u001b[0;34mf\"is expecting {self.n_features_in_} features as input.\"\u001b[0m\u001b[0;34m\u001b[0m\u001b[0;34m\u001b[0m\u001b[0m\n",
            "\u001b[0;31mValueError\u001b[0m: X has 30 features, but GaussianNB is expecting 31 features as input."
          ]
        }
      ]
    }
  ]
}